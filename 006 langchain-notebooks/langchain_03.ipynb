{
 "cells": [
  {
   "cell_type": "code",
   "execution_count": 1,
   "metadata": {},
   "outputs": [],
   "source": [
    "! pip install -qU -r requirements.txt"
   ]
  },
  {
   "cell_type": "code",
   "execution_count": 4,
   "metadata": {},
   "outputs": [],
   "source": [
    "from decouple import AutoConfig, config\n",
    "from icecream import ic\n",
    "from langchain_ollama import OllamaLLM\n",
    "import streamlit as st\n",
    "from langchain_core.prompts import ChatPromptTemplate\n",
    "from langchain_core.output_parsers import StrOutputParser"
   ]
  },
  {
   "cell_type": "code",
   "execution_count": 17,
   "metadata": {},
   "outputs": [],
   "source": [
    "config = AutoConfig(search_path='../notes-rag/')\n",
    "\n",
    "HF_TOKEN = config(\"HF_TOKEN\")\n",
    "LANGCHAIN_TRACING_V2 = config(\"LANGCHAIN_TRACING_V2\")\n",
    "LANGCHAIN_ENDPOINT = config(\"LANGCHAIN_ENDPOINT\")\n",
    "LANGCHAIN_PROJECT = config(\"LANGCHAIN_PROJECT\")\n",
    "lANGCHAIN_API_KEY = config(\"LANGCHAIN_API_KEY\")"
   ]
  },
  {
   "cell_type": "code",
   "execution_count": 13,
   "metadata": {},
   "outputs": [],
   "source": [
    "prompt = ChatPromptTemplate.from_messages([\n",
    "    (\"system\", \"you are a helpful assistant, please respond to the question asked\"),\n",
    "    (\"user\", \"question: {question}\")\n",
    "])\n",
    "llm = OllamaLLM(model=\"llama3.2\")\n",
    "output_parser = StrOutputParser()"
   ]
  },
  {
   "cell_type": "code",
   "execution_count": null,
   "metadata": {},
   "outputs": [],
   "source": [
    "st.title(\"This is My Langchain demo with LLAMA3.2 model\")\n",
    "input_text = st.text_input(\"What Question do you have in Mind ?\")\n"
   ]
  },
  {
   "cell_type": "code",
   "execution_count": 14,
   "metadata": {},
   "outputs": [],
   "source": [
    "chain = prompt|llm|output_parser"
   ]
  },
  {
   "cell_type": "code",
   "execution_count": 18,
   "metadata": {},
   "outputs": [
    {
     "data": {
      "text/plain": [
       "'I\\'d be happy to provide information about Adolf Hitler.\\n\\nAdolf Hitler (1889-1945) was a German politician and leader of the Nazi Party (Nationalsozialistische Deutsche Arbeiterpartei, or NSDAP). He served as the dictator of Germany from 1933 to 1945 and is widely regarded as one of the most evil and infamous leaders in modern history.\\n\\nHitler rose to power in Germany during the post-World War I era, using his charismatic leadership and anti-Semitic rhetoric to gain widespread support. He implemented a range of policies aimed at \"purifying\" German society, including the persecution and eventual extermination of six million Jews during the Holocaust.\\n\\nDuring World War II, Hitler\\'s aggressive military expansion led to devastating conflicts with other European countries, resulting in the deaths of millions of people. Germany\\'s invasion of Poland in 1939 marked the beginning of the war, which eventually involved many countries across the globe.\\n\\nSome of Hitler\\'s notable actions and policies include:\\n\\n* Enforcing strict racial laws and regulations aimed at \"purifying\" German society\\n* Implementing a system of concentration camps to imprison and torture millions of people deemed undesirable\\n* Launching a genocide against Jews, resulting in the deaths of six million people\\n* Leading Germany\\'s invasion of Poland, France, Belgium, the Netherlands, Denmark, Norway, Greece, and other countries during World War II\\n\\nHitler\\'s actions led to the loss of millions of lives, widespread destruction, and irreparable damage to Europe and the world. His legacy is one of hatred, intolerance, and genocide.\\n\\nWould you like to know more about Hitler or his impact on history?'"
      ]
     },
     "execution_count": 18,
     "metadata": {},
     "output_type": "execute_result"
    }
   ],
   "source": [
    "chain.invoke({\"question\": \"who is adolf hitler ?\"})"
   ]
  },
  {
   "cell_type": "code",
   "execution_count": null,
   "metadata": {},
   "outputs": [],
   "source": []
  }
 ],
 "metadata": {
  "kernelspec": {
   "display_name": "ragEnv",
   "language": "python",
   "name": "python3"
  },
  "language_info": {
   "codemirror_mode": {
    "name": "ipython",
    "version": 3
   },
   "file_extension": ".py",
   "mimetype": "text/x-python",
   "name": "python",
   "nbconvert_exporter": "python",
   "pygments_lexer": "ipython3",
   "version": "3.10.16"
  }
 },
 "nbformat": 4,
 "nbformat_minor": 2
}
