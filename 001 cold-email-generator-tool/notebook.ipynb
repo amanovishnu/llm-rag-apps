{
 "cells": [
  {
   "cell_type": "code",
   "execution_count": 29,
   "metadata": {},
   "outputs": [],
   "source": [
    "import pandas as pd\n",
    "from langchain_groq import ChatGroq\n",
    "from decouple import AutoConfig\n",
    "from langchain_community.document_loaders import WebBaseLoader\n",
    "from langchain_chroma import Chroma\n",
    "from langchain_core.output_parsers import JsonOutputParser, StrOutputParser\n",
    "from langchain_core.prompts import PromptTemplate\n",
    "from langchain_huggingface import HuggingFaceEmbeddings\n",
    "from langchain_core.documents import Document"
   ]
  },
  {
   "cell_type": "code",
   "execution_count": 30,
   "metadata": {},
   "outputs": [],
   "source": [
    "config = AutoConfig(search_path=\"../.env\")\n",
    "\n",
    "GROQ_API_KEY = config(\"GROQ_API_KEY\")\n",
    "LANGCHAIN_TRACING_V2 = config(\"LANGCHAIN_TRACING_V2\")\n",
    "LANGCHAIN_ENDPOINT = config(\"LANGCHAIN_ENDPOINT\")\n",
    "LANGCHAIN_PROJECT = config(\"LANGCHAIN_PROJECT\")\n",
    "lANGCHAIN_API_KEY = config(\"LANGCHAIN_API_KEY\")"
   ]
  },
  {
   "cell_type": "code",
   "execution_count": 31,
   "metadata": {},
   "outputs": [
    {
     "name": "stdout",
     "output_type": "stream",
     "text": [
      "job_url='https://www.amazon.jobs/en/jobs/2853585/senior-software-development-engineer'\n"
     ]
    }
   ],
   "source": [
    "job_url = input(\"Paste the URL here: \")\n",
    "print(f\"{job_url=}\")"
   ]
  },
  {
   "cell_type": "code",
   "execution_count": 32,
   "metadata": {},
   "outputs": [],
   "source": [
    "web_data = WebBaseLoader(web_path=job_url).load()\n",
    "llm = ChatGroq(model=\"llama-3.1-70b-versatile\", api_key=GROQ_API_KEY, temperature=0.5)\n",
    "embeddings = HuggingFaceEmbeddings(model_name=\"all-MiniLM-L6-v2\")\n",
    "json_parser = JsonOutputParser()\n",
    "str_parser = StrOutputParser()"
   ]
  },
  {
   "cell_type": "code",
   "execution_count": 33,
   "metadata": {},
   "outputs": [],
   "source": [
    "scrape_prompt = PromptTemplate.from_template(\n",
    "    \"\"\"\n",
    "        ### SCRAPED TEXT FROM WEBSITE:\n",
    "        {page_data}\n",
    "        ### INSTRUCTION:\n",
    "        THe Scraped text is from the career page of a website.\n",
    "        your job is to extract the job postings and return them in JSON format containing\n",
    "        the following keys: `role`, `experience`, `skills` and `description`.\n",
    "        Return only the valid JSON.\n",
    "        ### VALID JSON (NO PREAMBLE):\n",
    "    \"\"\"\n",
    ")\n",
    "\n",
    "email_prompt = PromptTemplate.from_template(\n",
    "    \"\"\"\n",
    "    ### JOB DESCRIPTION:\n",
    "    {job_description}\n",
    "    ### INSTRUCTION:\n",
    "    You are Madhu, a business development executive at Mocha. \n",
    "    Mocha is an AI & Software Consulting company dedicated to facilitating\n",
    "    the seamless integration of business processes through automated tools. \n",
    "    Over our experience, we have empowered numerous enterprises with tailored solutions, fostering scalability, \n",
    "    process optimization, cost reduction, and heightened overall efficiency. \n",
    "    Your job is to write a cold email to the client regarding the job mentioned above describing \n",
    "    the capability of Mocha in fulfilling their needs.\n",
    "    Also add the most relevant ones from the following links to showcase Mocha's portfolio: {link_list}\n",
    "    Remember you are Madhu, BDE at Mocha. \n",
    "    Do not provide a preamble.\n",
    "    ### EMAIL (NO PREAMBLE):\n",
    "    \"\"\"\n",
    ")"
   ]
  },
  {
   "cell_type": "code",
   "execution_count": 34,
   "metadata": {},
   "outputs": [],
   "source": [
    "scrape_chain = scrape_prompt | llm | json_parser\n",
    "email_chain = email_prompt | llm | str_parser"
   ]
  },
  {
   "cell_type": "code",
   "execution_count": 35,
   "metadata": {},
   "outputs": [
    {
     "name": "stdout",
     "output_type": "stream",
     "text": [
      "\n",
      "        ### SCRAPED TEXT FROM WEBSITE:\n",
      "        Senior Software Development Engineer - Job ID: 2853585 | Amazon.jobs\n",
      "Skip to main contentHomeTeamsLocationsJob categoriesMy careerMy applicationsMy profileAccount securitySettingsSign outResourcesDisability accommodationsBenefitsDiversity, equity, and inclusionInterview tipsLeadership principlesWorking at AmazonFAQ×Senior Software Development EngineerJob ID: 2853585 | ADCI HYD 13 SEZApply nowDESCRIPTIONWould you like to work on one of the world's largest transactional distributed systems? How about working with customers and peers from the entire range of Amazon's business on cool new features? Whether you're passionate about building highly scalable and reliable systems or a software developer who likes to solve business problems, Amazon Tax Platform Services is the place for you.We are responsible for the tax platform, providing the core services that calculate taxes (sales tax and VAT) for all Amazon sales, physical and digital, globally and generate tax invoices for the same. We thrive on providing the correct tax amounts to the customer at order time, and make sure audit records are stored safely to meet tax law requirements around the globe and generate tax compliant invoices for our customers. Our challenges include staying on top of the complex and ever-changing global tax rates and laws as well as computing calculations correctly and quickly, thousands of times a second, and each one needs to be right.We are looking for software engineers who thrive on complex problems and relish the challenge of operating complex and mission critical systems under extreme loads. Our systems manage hundreds of millions of records, and respond to millions of service requests per minute. Do you think you are up to the challenge? Or would you like to learn more and stretch your skills and career?The successful candidate is expected to contribute to all parts of the software development and deployment lifecycle, including design, development, documentation, testing and operations. They must possess verbal and written communication skills, be self-driven and deliver high quality results in a fast paced environment. They need to enjoy working closely with their peers in a group of very smart and talented engineers.We're looking for people who are smart and can get things done, though the following skill sets provide a good foundation for a quick ramp up to being productive in our Java, Linux and Oracle-based environment. We're looking for a range of experience, from brilliant and motivated new college graduates to technical leaders with battle-tested wisdom.As a software development engineer on this team, you will play a pivotal role in the following:- Work with the team to help drive business decisions- Design, implement, test, deploy and maintain innovative software solutions to drive services optimisations, cost, and security.- Use software engineering best practices to ensure a high standard of quality for all of the team deliverables- Write high quality distributed system software- Work in an agile, startup-like development environment, where you are always working on the most important stuff.BASIC QUALIFICATIONS- 5+ years of non-internship professional software development experience- 5+ years of programming with at least one software programming language experience- 5+ years of leading design or architecture (design patterns, reliability and scaling) of new and existing systems experience- Experience as a mentor, tech lead or leading an engineering teamPREFERRED QUALIFICATIONS- 5+ years of full software development life cycle, including coding standards, code reviews, source control management, build processes, testing, and operations experience- Bachelor's degree in computer science or equivalentOur inclusive culture empowers Amazonians to deliver the best results for our customers. If you have a disability and need a workplace accommodation or adjustment during the application and hiring process, including support for the interview or onboarding process, please visit https://amazon.jobs/content/en/how-we-hire/accommodations for more information. If the country/region you’re applying in isn’t listed, please contact your Recruiting Partner.Job detailsIND, TS, HyderabadAmazon.inSoftware DevelopmentShare this jobJOIN US ONFind CareersJob CategoriesTeamsLocationsUS and EU Military recruitingWarehouse and Hourly JobsWorking At AmazonCultureBenefitsAmazon NewsletterDiversity at AmazonOur leadership principlesHelpFAQInterview tipsReview application statusDisability accommodationsEU background checksAmazon is committed to a diverse and inclusive workplace. Amazon is an equal opportunity employer and does not discriminate on the basis of race, national origin, gender, gender identity, sexual orientation, protected veteran status, disability, age, or other legally protected status.Privacy and DataImpressum© 1996-2024, Amazon.com, Inc. or its affiliates\n",
      "        ### INSTRUCTION:\n",
      "        THe Scraped text is from the career page of a website.\n",
      "        your job is to extract the job postings and return them in JSON format containing\n",
      "        the following keys: `role`, `experience`, `skills` and `description`.\n",
      "        Return only the valid JSON.\n",
      "        ### VALID JSON (NO PREAMBLE):\n",
      "    \n"
     ]
    }
   ],
   "source": [
    "page_data = web_data.pop().page_content\n",
    "print(scrape_prompt.format(**{\"page_data\":page_data}))"
   ]
  },
  {
   "cell_type": "code",
   "execution_count": 36,
   "metadata": {},
   "outputs": [
    {
     "name": "stdout",
     "output_type": "stream",
     "text": [
      "{'role': 'Senior Software Development Engineer', 'experience': '5+ years of non-internship professional software development experience', 'skills': ['programming with at least one software programming language experience', 'leading design or architecture (design patterns, reliability and scaling) of new and existing systems experience', 'Java, Linux and Oracle-based environment'], 'description': 'We are looking for software engineers who thrive on complex problems and relish the challenge of operating complex and mission critical systems under extreme loads. Our systems manage hundreds of millions of records, and respond to millions of service requests per minute.'}\n"
     ]
    }
   ],
   "source": [
    "response = scrape_chain.invoke(input={\"page_data\": page_data})\n",
    "print(response)"
   ]
  },
  {
   "cell_type": "code",
   "execution_count": 37,
   "metadata": {},
   "outputs": [
    {
     "data": {
      "text/html": [
       "<div>\n",
       "<style scoped>\n",
       "    .dataframe tbody tr th:only-of-type {\n",
       "        vertical-align: middle;\n",
       "    }\n",
       "\n",
       "    .dataframe tbody tr th {\n",
       "        vertical-align: top;\n",
       "    }\n",
       "\n",
       "    .dataframe thead th {\n",
       "        text-align: right;\n",
       "    }\n",
       "</style>\n",
       "<table border=\"1\" class=\"dataframe\">\n",
       "  <thead>\n",
       "    <tr style=\"text-align: right;\">\n",
       "      <th></th>\n",
       "      <th>Techstack</th>\n",
       "      <th>Links</th>\n",
       "    </tr>\n",
       "  </thead>\n",
       "  <tbody>\n",
       "    <tr>\n",
       "      <th>0</th>\n",
       "      <td>React, Node.js, MongoDB</td>\n",
       "      <td>https://example.com/react-portfolio</td>\n",
       "    </tr>\n",
       "    <tr>\n",
       "      <th>1</th>\n",
       "      <td>Angular,.NET, SQL Server</td>\n",
       "      <td>https://example.com/angular-portfolio</td>\n",
       "    </tr>\n",
       "    <tr>\n",
       "      <th>2</th>\n",
       "      <td>Vue.js, Ruby on Rails, PostgreSQL</td>\n",
       "      <td>https://example.com/vue-portfolio</td>\n",
       "    </tr>\n",
       "    <tr>\n",
       "      <th>3</th>\n",
       "      <td>Python, Django, MySQL</td>\n",
       "      <td>https://example.com/python-portfolio</td>\n",
       "    </tr>\n",
       "    <tr>\n",
       "      <th>4</th>\n",
       "      <td>Java, Spring Boot, Oracle</td>\n",
       "      <td>https://example.com/java-portfolio</td>\n",
       "    </tr>\n",
       "    <tr>\n",
       "      <th>5</th>\n",
       "      <td>Flutter, Firebase, GraphQL</td>\n",
       "      <td>https://example.com/flutter-portfolio</td>\n",
       "    </tr>\n",
       "    <tr>\n",
       "      <th>6</th>\n",
       "      <td>WordPress, PHP, MySQL</td>\n",
       "      <td>https://example.com/wordpress-portfolio</td>\n",
       "    </tr>\n",
       "    <tr>\n",
       "      <th>7</th>\n",
       "      <td>Magento, PHP, MySQL</td>\n",
       "      <td>https://example.com/magento-portfolio</td>\n",
       "    </tr>\n",
       "    <tr>\n",
       "      <th>8</th>\n",
       "      <td>React Native, Node.js, MongoDB</td>\n",
       "      <td>https://example.com/react-native-portfolio</td>\n",
       "    </tr>\n",
       "    <tr>\n",
       "      <th>9</th>\n",
       "      <td>iOS, Swift, Core Data</td>\n",
       "      <td>https://example.com/ios-portfolio</td>\n",
       "    </tr>\n",
       "    <tr>\n",
       "      <th>10</th>\n",
       "      <td>Android, Java, Room Persistence</td>\n",
       "      <td>https://example.com/android-portfolio</td>\n",
       "    </tr>\n",
       "    <tr>\n",
       "      <th>11</th>\n",
       "      <td>Kotlin, Android, Firebase</td>\n",
       "      <td>https://example.com/kotlin-android-portfolio</td>\n",
       "    </tr>\n",
       "    <tr>\n",
       "      <th>12</th>\n",
       "      <td>Android TV, Kotlin, Android NDK</td>\n",
       "      <td>https://example.com/android-tv-portfolio</td>\n",
       "    </tr>\n",
       "    <tr>\n",
       "      <th>13</th>\n",
       "      <td>iOS, Swift, ARKit</td>\n",
       "      <td>https://example.com/ios-ar-portfolio</td>\n",
       "    </tr>\n",
       "    <tr>\n",
       "      <th>14</th>\n",
       "      <td>Cross-platform, Xamarin, Azure</td>\n",
       "      <td>https://example.com/xamarin-portfolio</td>\n",
       "    </tr>\n",
       "    <tr>\n",
       "      <th>15</th>\n",
       "      <td>Backend, Kotlin, Spring Boot</td>\n",
       "      <td>https://example.com/kotlin-backend-portfolio</td>\n",
       "    </tr>\n",
       "    <tr>\n",
       "      <th>16</th>\n",
       "      <td>Frontend, TypeScript, Angular</td>\n",
       "      <td>https://example.com/typescript-frontend-portfolio</td>\n",
       "    </tr>\n",
       "    <tr>\n",
       "      <th>17</th>\n",
       "      <td>Full-stack, JavaScript, Express.js</td>\n",
       "      <td>https://example.com/full-stack-js-portfolio</td>\n",
       "    </tr>\n",
       "    <tr>\n",
       "      <th>18</th>\n",
       "      <td>Machine Learning, Python, TensorFlow</td>\n",
       "      <td>https://example.com/ml-python-portfolio</td>\n",
       "    </tr>\n",
       "    <tr>\n",
       "      <th>19</th>\n",
       "      <td>DevOps, Jenkins, Docker</td>\n",
       "      <td>https://example.com/devops-portfolio</td>\n",
       "    </tr>\n",
       "  </tbody>\n",
       "</table>\n",
       "</div>"
      ],
      "text/plain": [
       "                               Techstack  \\\n",
       "0                React, Node.js, MongoDB   \n",
       "1               Angular,.NET, SQL Server   \n",
       "2      Vue.js, Ruby on Rails, PostgreSQL   \n",
       "3                  Python, Django, MySQL   \n",
       "4              Java, Spring Boot, Oracle   \n",
       "5             Flutter, Firebase, GraphQL   \n",
       "6                  WordPress, PHP, MySQL   \n",
       "7                    Magento, PHP, MySQL   \n",
       "8         React Native, Node.js, MongoDB   \n",
       "9                  iOS, Swift, Core Data   \n",
       "10       Android, Java, Room Persistence   \n",
       "11             Kotlin, Android, Firebase   \n",
       "12       Android TV, Kotlin, Android NDK   \n",
       "13                     iOS, Swift, ARKit   \n",
       "14        Cross-platform, Xamarin, Azure   \n",
       "15          Backend, Kotlin, Spring Boot   \n",
       "16         Frontend, TypeScript, Angular   \n",
       "17    Full-stack, JavaScript, Express.js   \n",
       "18  Machine Learning, Python, TensorFlow   \n",
       "19               DevOps, Jenkins, Docker   \n",
       "\n",
       "                                                Links  \n",
       "0                 https://example.com/react-portfolio  \n",
       "1               https://example.com/angular-portfolio  \n",
       "2                   https://example.com/vue-portfolio  \n",
       "3                https://example.com/python-portfolio  \n",
       "4                  https://example.com/java-portfolio  \n",
       "5               https://example.com/flutter-portfolio  \n",
       "6             https://example.com/wordpress-portfolio  \n",
       "7               https://example.com/magento-portfolio  \n",
       "8          https://example.com/react-native-portfolio  \n",
       "9                   https://example.com/ios-portfolio  \n",
       "10              https://example.com/android-portfolio  \n",
       "11       https://example.com/kotlin-android-portfolio  \n",
       "12           https://example.com/android-tv-portfolio  \n",
       "13               https://example.com/ios-ar-portfolio  \n",
       "14              https://example.com/xamarin-portfolio  \n",
       "15       https://example.com/kotlin-backend-portfolio  \n",
       "16  https://example.com/typescript-frontend-portfolio  \n",
       "17        https://example.com/full-stack-js-portfolio  \n",
       "18            https://example.com/ml-python-portfolio  \n",
       "19               https://example.com/devops-portfolio  "
      ]
     },
     "metadata": {},
     "output_type": "display_data"
    }
   ],
   "source": [
    "df = pd.read_csv(\"../resources/my_portfolio.csv\")\n",
    "display(df)"
   ]
  },
  {
   "cell_type": "code",
   "execution_count": 38,
   "metadata": {},
   "outputs": [],
   "source": [
    "csv_documents = []\n",
    "for _, row in df.iterrows():\n",
    "    csv_documents.append(Document(page_content=row[\"Techstack\"], metadata={\"source\": row[\"Links\"]}))"
   ]
  },
  {
   "cell_type": "code",
   "execution_count": 39,
   "metadata": {},
   "outputs": [
    {
     "data": {
      "text/plain": [
       "['0456788d-86cf-40e0-8662-30d3effa54b3',\n",
       " '48d21ac8-0937-4ba5-9030-50dfb5b6f823',\n",
       " '5292d8df-e3db-4d52-ba9c-3272a56d234a',\n",
       " '8d9c4de7-63e9-4c5b-bb3d-f20ea752f4a3',\n",
       " 'decae6b8-bddb-401e-ac60-194a54364a6c',\n",
       " 'bb69e771-3449-407c-baa1-65700eded39d',\n",
       " '5f696de1-00aa-4067-8f95-4365c5cf8b3e',\n",
       " '62873023-d186-427f-992d-00ec7a954daa',\n",
       " '32ce3b4b-5828-439f-8057-6636b10d95e2',\n",
       " '2ad23784-3dd0-4590-aa6d-e57e8ca84e34',\n",
       " '0533a1c1-777d-4921-b464-ea70f4ab47ae',\n",
       " 'fb0f9825-df13-4ab2-8994-02bc5dea314d',\n",
       " '2e948f22-c78e-4517-9c6f-452a572819a8',\n",
       " '94761e3b-e412-4ec7-8f3e-def48da60325',\n",
       " '5dee100b-2f31-4bf3-95b1-d3c527c1e9bd',\n",
       " 'd2dc7b1f-f8f0-4917-91fa-992c308ba22f',\n",
       " 'aa494a12-9b4b-40ba-a877-a0f314be95a3',\n",
       " 'f30a4c3e-824f-4e50-aec5-037abe64cd16',\n",
       " '69d77c64-a211-429a-a83b-985e0e361ce9',\n",
       " '8e7b589a-8e9c-4f36-b7d2-5354b96beaf8']"
      ]
     },
     "execution_count": 39,
     "metadata": {},
     "output_type": "execute_result"
    }
   ],
   "source": [
    "vector_store = Chroma(collection_name=\"portfolio_collection\", embedding_function=embeddings)\n",
    "vector_store.add_documents(csv_documents)"
   ]
  },
  {
   "cell_type": "code",
   "execution_count": 40,
   "metadata": {},
   "outputs": [
    {
     "data": {
      "text/plain": [
       "['programming with at least one software programming language experience',\n",
       " 'leading design or architecture (design patterns, reliability and scaling) of new and existing systems experience',\n",
       " 'Java, Linux and Oracle-based environment']"
      ]
     },
     "execution_count": 40,
     "metadata": {},
     "output_type": "execute_result"
    }
   ],
   "source": [
    "response['skills']"
   ]
  },
  {
   "cell_type": "code",
   "execution_count": 41,
   "metadata": {},
   "outputs": [
    {
     "data": {
      "text/plain": [
       "['https://example.com/ml-python-portfolio',\n",
       " 'https://example.com/android-portfolio',\n",
       " 'https://example.com/java-portfolio']"
      ]
     },
     "execution_count": 41,
     "metadata": {},
     "output_type": "execute_result"
    }
   ],
   "source": [
    "relevant_portfolios = []\n",
    "for skill in response.get('skills'):\n",
    "    relevant_portfolios.append(vector_store.similarity_search(skill, k=1)[0].metadata['source'])\n",
    "relevant_portfolios"
   ]
  },
  {
   "cell_type": "code",
   "execution_count": 42,
   "metadata": {},
   "outputs": [
    {
     "name": "stdout",
     "output_type": "stream",
     "text": [
      "\n",
      "    ### JOB DESCRIPTION:\n",
      "    {'role': 'Senior Software Development Engineer', 'experience': '5+ years of non-internship professional software development experience', 'skills': ['programming with at least one software programming language experience', 'leading design or architecture (design patterns, reliability and scaling) of new and existing systems experience', 'Java, Linux and Oracle-based environment'], 'description': 'We are looking for software engineers who thrive on complex problems and relish the challenge of operating complex and mission critical systems under extreme loads. Our systems manage hundreds of millions of records, and respond to millions of service requests per minute.'}\n",
      "    ### INSTRUCTION:\n",
      "    You are Madhu, a business development executive at Mocha. \n",
      "    Mocha is an AI & Software Consulting company dedicated to facilitating\n",
      "    the seamless integration of business processes through automated tools. \n",
      "    Over our experience, we have empowered numerous enterprises with tailored solutions, fostering scalability, \n",
      "    process optimization, cost reduction, and heightened overall efficiency. \n",
      "    Your job is to write a cold email to the client regarding the job mentioned above describing \n",
      "    the capability of Mocha in fulfilling their needs.\n",
      "    Also add the most relevant ones from the following links to showcase Mocha's portfolio: {'https://example.com/android-portfolio', 'https://example.com/ml-python-portfolio', 'https://example.com/java-portfolio'}\n",
      "    Remember you are Madhu, BDE at Mocha. \n",
      "    Do not provide a preamble.\n",
      "    ### EMAIL (NO PREAMBLE):\n",
      "    \n"
     ]
    }
   ],
   "source": [
    "print(email_prompt.format(**{\"job_description\":str(response), \"link_list\":set(relevant_portfolios)}))"
   ]
  },
  {
   "cell_type": "code",
   "execution_count": 43,
   "metadata": {},
   "outputs": [
    {
     "name": "stdout",
     "output_type": "stream",
     "text": [
      "Subject: Expert Software Development Solutions for Complex Systems\n",
      "\n",
      "Dear Hiring Manager,\n",
      "\n",
      "I came across the job description for a Senior Software Development Engineer at your esteemed organization, and I am excited to introduce Mocha, an AI & Software Consulting company that can help you address your software development needs.\n",
      "\n",
      "Our team of experts has extensive experience in designing and developing complex systems that manage large volumes of data and respond to high service requests. We understand the challenges of operating mission-critical systems under extreme loads and have a proven track record of delivering scalable and reliable solutions.\n",
      "\n",
      "At Mocha, we have a strong proficiency in Java, Linux, and Oracle-based environments, which aligns perfectly with your requirements. Our team has experience in leading design or architecture of new and existing systems, ensuring that our solutions are efficient, reliable, and scalable.\n",
      "\n",
      "I would like to highlight a few examples of our work in Java, which showcases our expertise in this area:\n",
      "\n",
      "* Our Java portfolio (https://example.com/java-portfolio) demonstrates our ability to develop complex systems that meet the highest standards of quality and performance.\n",
      "\n",
      "In addition to our technical expertise, we also bring a deep understanding of business processes and the importance of integrating technology solutions that drive scalability, process optimization, cost reduction, and overall efficiency.\n",
      "\n",
      "If you're looking for a trusted partner to help you address your software development needs, I would be delighted to schedule a call to discuss how Mocha can support your organization.\n",
      "\n",
      "Please feel free to reply to this email or contact me directly at [Your Email Address] or [Your Phone Number].\n",
      "\n",
      "Best regards,\n",
      "\n",
      "Madhu\n",
      "Business Development Executive\n",
      "Mocha\n"
     ]
    }
   ],
   "source": [
    "response = email_chain.invoke({\"job_description\":str(response), \"link_list\":set(relevant_portfolios)})\n",
    "print(response)"
   ]
  }
 ],
 "metadata": {
  "kernelspec": {
   "display_name": "ragEnv",
   "language": "python",
   "name": "python3"
  },
  "language_info": {
   "codemirror_mode": {
    "name": "ipython",
    "version": 3
   },
   "file_extension": ".py",
   "mimetype": "text/x-python",
   "name": "python",
   "nbconvert_exporter": "python",
   "pygments_lexer": "ipython3",
   "version": "3.10.16"
  }
 },
 "nbformat": 4,
 "nbformat_minor": 2
}
